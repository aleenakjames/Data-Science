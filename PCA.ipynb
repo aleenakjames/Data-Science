{
 "cells": [
  {
   "cell_type": "code",
   "execution_count": 20,
   "id": "921773f9",
   "metadata": {},
   "outputs": [
    {
     "name": "stdout",
     "output_type": "stream",
     "text": [
      "correlation before pca:\n",
      "            0         1         2   3\n",
      "0  1.000000  0.680019 -0.170499 NaN\n",
      "1  0.680019  1.000000 -0.136590 NaN\n",
      "2 -0.170499 -0.136590  1.000000 NaN\n",
      "3       NaN       NaN       NaN NaN\n"
     ]
    },
    {
     "data": {
      "image/png": "[encoded data removed]",
      "text/plain": [
       "<Figure size 432x288 with 2 Axes>"
      ]
     },
     "metadata": {
      "needs_background": "light"
     },
     "output_type": "display_data"
    }
   ],
   "source": [
    "from sklearn.datasets import load_iris\n",
    "from sklearn.preprocessing import StandardScaler\n",
    "from sklearn.decomposition import PCA\n",
    "import pandas as pd\n",
    "import seaborn as sns\n",
    "iris = load_iris()\n",
    "df = pd.DataFrame(iris['data'], columns = iris['feature_names'])\n",
    "df = df.head()\n",
    "scalar = StandardScaler().fit_transform(df)\n",
    "scaled_data = pd.DataFrame(scalar)\n",
    "pca = PCA(n_components = 3).fit(scaled_data)\n",
    "pca_data = pca.transform(scaled_data)\n",
    "pca_data = pd.DataFrame(pca_data,columns = ['PCA1','PCA2','PCA3'])\n",
    "sns.heatmap(scaled_data.corr())\n",
    "print(\"correlation before pca:\\n \",scaled_data.corr())"
   ]
  },
  {
   "cell_type": "code",
   "execution_count": 21,
   "id": "a03ce0c1",
   "metadata": {},
   "outputs": [
    {
     "name": "stdout",
     "output_type": "stream",
     "text": [
      "correlation after pca:\n",
      "               PCA1          PCA2          PCA3\n",
      "PCA1  1.000000e+00 -1.389479e-16 -6.549344e-16\n",
      "PCA2 -1.389479e-16  1.000000e+00  2.131433e-16\n",
      "PCA3 -6.549344e-16  2.131433e-16  1.000000e+00\n"
     ]
    },
    {
     "data": {
      "image/png": "[encoded data removed]",
      "text/plain": [
       "<Figure size 432x288 with 2 Axes>"
      ]
     },
     "metadata": {
      "needs_background": "light"
     },
     "output_type": "display_data"
    }
   ],
   "source": [
    "sns.heatmap(pca_data.corr())\n",
    "print(\"correlation after pca:\\n\",pca_data.corr())"
   ]
  },
  {
   "cell_type": "code",
   "execution_count": null,
   "id": "342740e3",
   "metadata": {},
   "outputs": [],
   "source": []
  }
 ],
 "metadata": {
  "kernelspec": {
   "display_name": "Python 3",
   "language": "python",
   "name": "python3"
  },
  "language_info": {
   "codemirror_mode": {
    "name": "ipython",
    "version": 3
   },
   "file_extension": ".py",
   "mimetype": "text/x-python",
   "name": "python",
   "nbconvert_exporter": "python",
   "pygments_lexer": "ipython3",
   "version": "3.9.12"
  }
 },
 "nbformat": 4,
 "nbformat_minor": 5
}
