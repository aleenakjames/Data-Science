{
 "cells": [
  {
   "cell_type": "code",
   "execution_count": 3,
   "id": "7e810653",
   "metadata": {},
   "outputs": [
    {
     "data": {
      "text/plain": [
       "array([1])"
      ]
     },
     "execution_count": 3,
     "metadata": {},
     "output_type": "execute_result"
    }
   ],
   "source": [
    "from sklearn.linear_model import LogisticRegression\n",
    "import numpy as np\n",
    "x = np.array([3,78,51,48,21,66]).reshape(-1,1)\n",
    "y = np.array([0,1,1,0,0,1])\n",
    "lgr = LogisticRegression().fit(x,y)\n",
    "a = lgr.predict([[99]])"
   ]
  },
  {
   "cell_type": "code",
   "execution_count": null,
   "id": "c70f0c21",
   "metadata": {},
   "outputs": [],
   "source": []
  }
 ],
 "metadata": {
  "kernelspec": {
   "display_name": "Python 3",
   "language": "python",
   "name": "python3"
  },
  "language_info": {
   "codemirror_mode": {
    "name": "ipython",
    "version": 3
   },
   "file_extension": ".py",
   "mimetype": "text/x-python",
   "name": "python",
   "nbconvert_exporter": "python",
   "pygments_lexer": "ipython3",
   "version": "3.9.12"
  }
 },
 "nbformat": 4,
 "nbformat_minor": 5
}
