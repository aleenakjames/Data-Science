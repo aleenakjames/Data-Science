{
 "cells": [
  {
   "cell_type": "code",
   "execution_count": 28,
   "id": "62b84b9c",
   "metadata": {},
   "outputs": [
    {
     "name": "stdout",
     "output_type": "stream",
     "text": [
      "Covariance =  0.5163 \n",
      "Corelation =  0.8179\n"
     ]
    }
   ],
   "source": [
    "from sklearn.datasets import load_iris\n",
    "import numpy as np\n",
    "import pandas as pd\n",
    "iris = load_iris()\n",
    "df = pd.DataFrame(data = iris.data, columns = iris.feature_names)\n",
    "x = df.loc[:,'sepal length (cm)']\n",
    "y = df.loc[:,'petal width (cm)']\n",
    "cov = round(np.cov(x,y)[0][1],4)\n",
    "cor = round(np.corrcoef(x,y)[0][1],4)\n",
    "print(\"Covariance = \",cov,\"\\nCorelation = \",cor)"
   ]
  },
  {
   "cell_type": "code",
   "execution_count": null,
   "id": "79288085",
   "metadata": {},
   "outputs": [],
   "source": []
  }
 ],
 "metadata": {
  "kernelspec": {
   "display_name": "Python 3",
   "language": "python",
   "name": "python3"
  },
  "language_info": {
   "codemirror_mode": {
    "name": "ipython",
    "version": 3
   },
   "file_extension": ".py",
   "mimetype": "text/x-python",
   "name": "python",
   "nbconvert_exporter": "python",
   "pygments_lexer": "ipython3",
   "version": "3.9.12"
  }
 },
 "nbformat": 4,
 "nbformat_minor": 5
}
