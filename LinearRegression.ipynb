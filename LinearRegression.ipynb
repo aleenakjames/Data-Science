{
 "cells": [
  {
   "cell_type": "code",
   "execution_count": 36,
   "id": "895daa75",
   "metadata": {},
   "outputs": [
    {
     "data": {
      "text/plain": [
       "array([ 1.19103064,  1.74174147, -0.10144906,  1.32601742, -0.06325877,\n",
       "        0.98180908,  1.43935666,  1.02666812, -0.05026778,  1.3120715 ,\n",
       "        1.42616689,  1.77779766,  1.199037  , -0.04413049, -0.0043351 ,\n",
       "        1.83477326,  1.40799354,  0.00595062,  0.04676719, -0.1223277 ,\n",
       "        1.90689943,  1.98106692,  1.57243507,  0.11801745,  1.2879331 ,\n",
       "       -0.04419675,  1.16978101,  1.26607257,  1.27600256,  2.09294878])"
      ]
     },
     "execution_count": 36,
     "metadata": {},
     "output_type": "execute_result"
    }
   ],
   "source": [
    "from sklearn.datasets import load_iris\n",
    "from sklearn.linear_model import LinearRegression\n",
    "from sklearn.model_selection import train_test_split\n",
    "iris = load_iris()\n",
    "x = iris.data\n",
    "y = iris.target\n",
    "x_train, x_test, y_train, y_test = train_test_split(x,y, test_size = 0.2, random_state = 10)\n",
    "lnr = LinearRegression().fit(x_train, y_train)\n",
    "y_pred = lnr.predict(x_test)\n",
    "y_pred"
   ]
  },
  {
   "cell_type": "code",
   "execution_count": 37,
   "id": "6cd38c73",
   "metadata": {},
   "outputs": [
    {
     "data": {
      "text/plain": [
       "array([1, 2, 0, 1, 0, 1, 1, 1, 0, 1, 1, 2, 1, 0, 0, 2, 1, 0, 0, 0, 2, 2,\n",
       "       2, 0, 1, 0, 1, 1, 1, 2])"
      ]
     },
     "execution_count": 37,
     "metadata": {},
     "output_type": "execute_result"
    }
   ],
   "source": [
    "y_test"
   ]
  },
  {
   "cell_type": "code",
   "execution_count": 47,
   "id": "dcfbdd93",
   "metadata": {},
   "outputs": [
    {
     "name": "stdout",
     "output_type": "stream",
     "text": [
      "[0.79546731]\n"
     ]
    }
   ],
   "source": [
    "a = lnr.predict([[5.2,2.4,4.0,0.4]])\n",
    "print(a)"
   ]
  },
  {
   "cell_type": "code",
   "execution_count": null,
   "id": "fc547dbd",
   "metadata": {},
   "outputs": [],
   "source": []
  }
 ],
 "metadata": {
  "kernelspec": {
   "display_name": "Python 3",
   "language": "python",
   "name": "python3"
  },
  "language_info": {
   "codemirror_mode": {
    "name": "ipython",
    "version": 3
   },
   "file_extension": ".py",
   "mimetype": "text/x-python",
   "name": "python",
   "nbconvert_exporter": "python",
   "pygments_lexer": "ipython3",
   "version": "3.9.12"
  }
 },
 "nbformat": 4,
 "nbformat_minor": 5
}
